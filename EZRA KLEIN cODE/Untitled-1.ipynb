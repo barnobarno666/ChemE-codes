{
 "cells": [
  {
   "cell_type": "markdown",
   "id": "8de1df2d",
   "metadata": {},
   "source": [
    "# Import Required Libraries\n",
    "Import necessary libraries such as NumPy, Matplotlib, and Scipy."
   ]
  },
  {
   "cell_type": "code",
   "execution_count": null,
   "id": "3d4463a6",
   "metadata": {},
   "outputs": [],
   "source": [
    "# Import Required Libraries\n",
    "import numpy as np\n",
    "import matplotlib.pyplot as plt\n",
    "from scipy.integrate import solve_ivp, odeint"
   ]
  },
  {
   "cell_type": "markdown",
   "id": "11ba17b2",
   "metadata": {},
   "source": [
    "# Define the ODE\n",
    "Define the ordinary differential equation as a Python function."
   ]
  },
  {
   "cell_type": "code",
   "execution_count": null,
   "id": "104d8998",
   "metadata": {},
   "outputs": [],
   "source": [
    "# Define the ODE\n",
    "def simple_ode(t, y):\n",
    "    dydt = -2 * y + np.sin(t)\n",
    "    return dydt"
   ]
  },
  {
   "cell_type": "markdown",
   "id": "6cd07954",
   "metadata": {},
   "source": [
    "# Solve the ODE Using Scipy\n",
    "Use Scipy's `solve_ivp` or `odeint` to solve the ODE numerically."
   ]
  },
  {
   "cell_type": "code",
   "execution_count": null,
   "id": "7745cd64",
   "metadata": {},
   "outputs": [],
   "source": [
    "# Solve the ODE using solve_ivp\n",
    "t_span = (0, 10)\n",
    "y0 = [1]  # Initial condition\n",
    "solution = solve_ivp(simple_ode, t_span, y0, t_eval=np.linspace(0, 10, 100))\n",
    "\n",
    "# Solve the ODE using odeint\n",
    "t = np.linspace(0, 10, 100)\n",
    "y_odeint = odeint(lambda y, t: simple_ode(t, y), y0, t)"
   ]
  },
  {
   "cell_type": "markdown",
   "id": "101d036d",
   "metadata": {},
   "source": [
    "# Visualize the Solution\n",
    "Plot the solution of the ODE using Matplotlib for better understanding."
   ]
  },
  {
   "cell_type": "code",
   "execution_count": null,
   "id": "3fb8e815",
   "metadata": {},
   "outputs": [],
   "source": [
    "# Visualize the solution\n",
    "plt.figure(figsize=(10, 6))\n",
    "plt.plot(solution.t, solution.y[0], label=\"solve_ivp Solution\")\n",
    "plt.plot(t, y_odeint[:, 0], label=\"odeint Solution\", linestyle=\"--\")\n",
    "plt.title(\"Solution of the ODE\")\n",
    "plt.xlabel(\"Time (t)\")\n",
    "plt.ylabel(\"y(t)\")\n",
    "plt.legend()\n",
    "plt.grid()\n",
    "plt.show()"
   ]
  },
  {
   "cell_type": "markdown",
   "id": "75f2b98b",
   "metadata": {},
   "source": [
    "# Solve a System of ODEs\n",
    "Extend the example to solve a system of coupled ODEs."
   ]
  },
  {
   "cell_type": "code",
   "execution_count": null,
   "id": "0c537437",
   "metadata": {},
   "outputs": [],
   "source": [
    "# Define a system of ODEs\n",
    "def coupled_odes(t, y):\n",
    "    dydt = [y[1], -0.5 * y[0] - 0.1 * y[1]]\n",
    "    return dydt\n",
    "\n",
    "# Solve the system of ODEs\n",
    "y0_coupled = [1, 0]  # Initial conditions for y and y'\n",
    "solution_coupled = solve_ivp(coupled_odes, t_span, y0_coupled, t_eval=np.linspace(0, 10, 100))\n",
    "\n",
    "# Visualize the solution of the coupled ODEs\n",
    "plt.figure(figsize=(10, 6))\n",
    "plt.plot(solution_coupled.t, solution_coupled.y[0], label=\"y(t)\")\n",
    "plt.plot(solution_coupled.t, solution_coupled.y[1], label=\"y'(t)\")\n",
    "plt.title(\"Solution of the Coupled ODEs\")\n",
    "plt.xlabel(\"Time (t)\")\n",
    "plt.ylabel(\"Values\")\n",
    "plt.legend()\n",
    "plt.grid()\n",
    "plt.show()"
   ]
  }
 ],
 "metadata": {
  "language_info": {
   "name": "python"
  }
 },
 "nbformat": 4,
 "nbformat_minor": 5
}
