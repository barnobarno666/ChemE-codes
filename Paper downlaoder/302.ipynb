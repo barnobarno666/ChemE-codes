{
 "cells": [
  {
   "cell_type": "code",
   "execution_count": 1,
   "metadata": {},
   "outputs": [
    {
     "name": "stdout",
     "output_type": "stream",
     "text": [
      "Critical Heat Flux: 1.11 MW/m^2\n"
     ]
    }
   ],
   "source": [
    "import math\n",
    "\n",
    "# Fluid properties for water at 100°C, 1 atm\n",
    "h_fg = 2257e3  # Latent heat of vaporization (J/kg)\n",
    "rho_v = 0.598  # Vapor density (kg/m^3)\n",
    "rho_l = 958.4  # Liquid density (kg/m^3)\n",
    "sigma = 0.0589  # Surface tension (N/m)\n",
    "g = 9.81       # Gravitational acceleration (m/s^2)\n",
    "\n",
    "# Zuber correlation for CHF\n",
    "q_CHF = (math.pi / 24) * h_fg * math.sqrt(rho_v) * (sigma * g * (rho_l - rho_v)) ** 0.25\n",
    "\n",
    "print(f\"Critical Heat Flux: {q_CHF / 1e6:.2f} MW/m^2\")"
   ]
  }
 ],
 "metadata": {
  "kernelspec": {
   "display_name": ".venv",
   "language": "python",
   "name": "python3"
  },
  "language_info": {
   "codemirror_mode": {
    "name": "ipython",
    "version": 3
   },
   "file_extension": ".py",
   "mimetype": "text/x-python",
   "name": "python",
   "nbconvert_exporter": "python",
   "pygments_lexer": "ipython3",
   "version": "3.11.9"
  }
 },
 "nbformat": 4,
 "nbformat_minor": 5
}
